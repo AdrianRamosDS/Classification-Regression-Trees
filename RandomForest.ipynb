{
 "cells": [
  {
   "cell_type": "code",
   "execution_count": null,
   "id": "b3774eda",
   "metadata": {},
   "outputs": [],
   "source": []
  },
  {
   "cell_type": "code",
   "execution_count": null,
   "id": "cd6136bb",
   "metadata": {},
   "outputs": [],
   "source": []
  },
  {
   "cell_type": "code",
   "execution_count": null,
   "id": "df106e16",
   "metadata": {},
   "outputs": [],
   "source": []
  },
  {
   "cell_type": "code",
   "execution_count": null,
   "id": "3f944371",
   "metadata": {},
   "outputs": [],
   "source": [
    "# Tratamiento de datos\n",
    "library(\"ISLR\")\n",
    "library(\"dplyr\")\n",
    "library(\"tidyr\")\n",
    "library(\"skimr\")\n",
    "\n",
    "# Gráficos\n",
    "library(\"ggplot2\")\n",
    "library(\"ggpubr\")\n",
    "\n",
    "# Preprocesado y modelado\n",
    "library(\"tidymodels\")\n",
    "library(\"caTools\")\n",
    "library(\"ranger\")\n",
    "library(\"doParallel\")"
   ]
  }
 ],
 "metadata": {
  "kernelspec": {
   "display_name": "Python 3 (ipykernel)",
   "language": "python",
   "name": "python3"
  },
  "language_info": {
   "codemirror_mode": {
    "name": "ipython",
    "version": 3
   },
   "file_extension": ".py",
   "mimetype": "text/x-python",
   "name": "python",
   "nbconvert_exporter": "python",
   "pygments_lexer": "ipython3",
   "version": "3.7.11"
  }
 },
 "nbformat": 4,
 "nbformat_minor": 5
}
